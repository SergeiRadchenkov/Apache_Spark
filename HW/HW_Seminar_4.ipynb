{
  "nbformat": 4,
  "nbformat_minor": 0,
  "metadata": {
    "colab": {
      "provenance": []
    },
    "kernelspec": {
      "name": "python3",
      "display_name": "Python 3"
    },
    "language_info": {
      "name": "python"
    }
  },
  "cells": [
    {
      "cell_type": "markdown",
      "source": [
        "##Домашняя работа"
      ],
      "metadata": {
        "id": "HeSv7PBddkQJ"
      }
    },
    {
      "cell_type": "markdown",
      "source": [
        "Условие: используйте источник rate, напишите код, который создаст дополнительный столбец, который будет выводить сумму только нечётных чисел."
      ],
      "metadata": {
        "id": "0wd_vmz2dwy6"
      }
    },
    {
      "cell_type": "code",
      "source": [
        "!pip install pyspark >> None"
      ],
      "metadata": {
        "id": "eJUUegIlfARU"
      },
      "execution_count": null,
      "outputs": []
    },
    {
      "cell_type": "code",
      "source": [
        "from pyspark.sql import SparkSession\n",
        "import pyspark.sql.functions as F"
      ],
      "metadata": {
        "id": "9m9WY-CEf1w2"
      },
      "execution_count": null,
      "outputs": []
    },
    {
      "cell_type": "code",
      "source": [
        "# Создаем сессию Spark\n",
        "spark = SparkSession.builder.appName(\"odd_number_sum\").getOrCreate()\n",
        "\n",
        "# Чтение данных из потока 'rate', каждый период генерируется два столбца: 'timestamp' и 'value'\n",
        "df = spark.readStream.format(\"rate\").load()\n",
        "\n",
        "# Добавляем новый столбец, который будет содержать сумму нечётных чисел\n",
        "df_with_odd_sum = df.withColumn(\"odd_sum\", F.expr(\"IF(value % 2 != 0, value, 0)\"))\n",
        "\n",
        "# Запускаем стриминг, выводя результат в консоль\n",
        "query = df_with_odd_sum.writeStream.outputMode(\"append\").format(\"console\").start()\n",
        "\n",
        "# Запускаем стриминг ожидание 10 секунд для генерации данных\n",
        "query.awaitTermination(10)\n",
        "\n",
        "# Останавливаем поток\n",
        "query.stop()"
      ],
      "metadata": {
        "id": "Bftn1OlLfzv-"
      },
      "execution_count": null,
      "outputs": []
    }
  ]
}