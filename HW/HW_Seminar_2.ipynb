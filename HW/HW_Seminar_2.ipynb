{
  "nbformat": 4,
  "nbformat_minor": 0,
  "metadata": {
    "colab": {
      "provenance": []
    },
    "kernelspec": {
      "name": "python3",
      "display_name": "Python 3"
    },
    "language_info": {
      "name": "python"
    }
  },
  "cells": [
    {
      "cell_type": "markdown",
      "source": [
        "##Домашняя работа"
      ],
      "metadata": {
        "id": "WgtRuEK_QlLd"
      }
    },
    {
      "cell_type": "markdown",
      "source": [
        "###Задание: дана таблица с колонками (id, name, salary, managerId), студентам необходимо написать код на spark, который создаст эту таблицу (данные указаны ниже) и в результате выдаст таблицу в которой будут имена сотрудников, которые зарабатывают больше своих менеджеров."
      ],
      "metadata": {
        "id": "u_Dwp6NjQq_y"
      }
    },
    {
      "cell_type": "code",
      "source": [
        "!pip install pyspark >> None"
      ],
      "metadata": {
        "id": "mrEO4W3UXAQp"
      },
      "execution_count": null,
      "outputs": []
    },
    {
      "cell_type": "code",
      "source": [
        "import pyspark\n",
        "from pyspark.sql import SparkSession"
      ],
      "metadata": {
        "id": "DgPODZUtSU93"
      },
      "execution_count": null,
      "outputs": []
    },
    {
      "cell_type": "code",
      "execution_count": null,
      "metadata": {
        "colab": {
          "base_uri": "https://localhost:8080/"
        },
        "id": "09dFAzhbQJx9",
        "outputId": "305d6d1c-dbb1-4e64-ae33-be4dc98cd79b"
      },
      "outputs": [
        {
          "output_type": "stream",
          "name": "stdout",
          "text": [
            "+---+-----+------+---------+\n",
            "| id| Name|Salary|ManagerId|\n",
            "+---+-----+------+---------+\n",
            "|  1|  Joe|    70|        3|\n",
            "|  2|Henry|    80|        4|\n",
            "|  3|  Sam|    60|     Null|\n",
            "|  4|  Max|    90|     Null|\n",
            "+---+-----+------+---------+\n",
            "\n"
          ]
        }
      ],
      "source": [
        "spark = SparkSession.builder.appName('filter_example').getOrCreate()\n",
        "\n",
        "data = [(1, 'Joe', 70, '3'), (2, 'Henry', 80, '4'), (3, 'Sam', 60, 'Null'), (4, 'Max', 90, 'Null')]\n",
        "df = spark.createDataFrame(data, ['id', 'Name', 'Salary', 'ManagerId'])\n",
        "\n",
        "df.show()"
      ]
    },
    {
      "cell_type": "code",
      "source": [
        "employees = df.select(\n",
        "    df['Name'].alias('employee_name'),\n",
        "    df['Salary'].alias('employee_salary')\n",
        ")[df.ManagerId == 'Null']\n",
        "employees.show()"
      ],
      "metadata": {
        "colab": {
          "base_uri": "https://localhost:8080/"
        },
        "id": "0h_sghSFXPam",
        "outputId": "a8ebdfbd-d4ac-4b34-8d94-c4c3f4056df1"
      },
      "execution_count": null,
      "outputs": [
        {
          "output_type": "stream",
          "name": "stdout",
          "text": [
            "+-------------+---------------+\n",
            "|employee_name|employee_salary|\n",
            "+-------------+---------------+\n",
            "|          Sam|             60|\n",
            "|          Max|             90|\n",
            "+-------------+---------------+\n",
            "\n"
          ]
        }
      ]
    },
    {
      "cell_type": "code",
      "source": [
        "managers = df.select(\n",
        "    df['Name'].alias('manager_name'),\n",
        "    df['Salary'].alias('manager_salary')\n",
        ")[df.ManagerId != 'Null']\n",
        "managers.show()"
      ],
      "metadata": {
        "colab": {
          "base_uri": "https://localhost:8080/"
        },
        "id": "GRS6mumN6qv8",
        "outputId": "8952b0a3-1065-4e51-e569-bf4770acd7fc"
      },
      "execution_count": null,
      "outputs": [
        {
          "output_type": "stream",
          "name": "stdout",
          "text": [
            "+------------+--------------+\n",
            "|manager_name|manager_salary|\n",
            "+------------+--------------+\n",
            "|         Joe|            70|\n",
            "|       Henry|            80|\n",
            "+------------+--------------+\n",
            "\n"
          ]
        }
      ]
    },
    {
      "cell_type": "code",
      "source": [
        "df_with_managers = employees.join(\n",
        "    managers,\n",
        "    how='left'\n",
        ")\n",
        "df_with_managers.show()"
      ],
      "metadata": {
        "colab": {
          "base_uri": "https://localhost:8080/"
        },
        "id": "R90miXJL69Zv",
        "outputId": "d6a8d6a7-e90e-4a76-afff-1b5df6e8a7c6"
      },
      "execution_count": null,
      "outputs": [
        {
          "output_type": "stream",
          "name": "stdout",
          "text": [
            "+-------------+---------------+------------+--------------+\n",
            "|employee_name|employee_salary|manager_name|manager_salary|\n",
            "+-------------+---------------+------------+--------------+\n",
            "|          Sam|             60|         Joe|            70|\n",
            "|          Sam|             60|       Henry|            80|\n",
            "|          Max|             90|         Joe|            70|\n",
            "|          Max|             90|       Henry|            80|\n",
            "+-------------+---------------+------------+--------------+\n",
            "\n"
          ]
        }
      ]
    },
    {
      "cell_type": "code",
      "source": [
        "result = df_with_managers.filter(df_with_managers['employee_salary'] > df_with_managers['manager_salary'])\n",
        "\n",
        "result.select(df_with_managers['employee_name']).distinct().show()"
      ],
      "metadata": {
        "colab": {
          "base_uri": "https://localhost:8080/"
        },
        "id": "ricZO_lE8NB9",
        "outputId": "52962567-b13d-4795-f4af-8e4840754579"
      },
      "execution_count": null,
      "outputs": [
        {
          "output_type": "stream",
          "name": "stdout",
          "text": [
            "+-------------+\n",
            "|employee_name|\n",
            "+-------------+\n",
            "|          Max|\n",
            "+-------------+\n",
            "\n"
          ]
        }
      ]
    }
  ]
}