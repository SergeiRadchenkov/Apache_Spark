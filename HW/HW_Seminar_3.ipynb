{
  "nbformat": 4,
  "nbformat_minor": 0,
  "metadata": {
    "colab": {
      "provenance": []
    },
    "kernelspec": {
      "name": "python3",
      "display_name": "Python 3"
    },
    "language_info": {
      "name": "python"
    }
  },
  "cells": [
    {
      "cell_type": "markdown",
      "source": [
        "##Домашняя работа"
      ],
      "metadata": {
        "id": "HeSv7PBddkQJ"
      }
    },
    {
      "cell_type": "markdown",
      "source": [
        "Условие: есть набор данных о продажах продуктов с информацией о дате продаж, категории продукта, количестве и выручке от продаж.\n",
        "\n",
        "Используя Apache Spark, загрузите предоставленный набор данных в DataFrame (пример данных ниже).\n",
        "\n",
        "(\"2023-11-20\", \"Electronics\", 100, 12000),<br>\n",
        "(\"2023-11-21\", \"Electronics\", 110, 13000),<br>\n",
        "(\"2023-11-22\", \"Electronics\", 105, 12500),<br>\n",
        "(\"2023-11-20\", \"Clothing\", 300, 15000),<br>\n",
        "(\"2023-11-21\", \"Clothing\", 280, 14000),<br>\n",
        "(\"2023-11-22\", \"Clothing\", 320, 16000),<br>\n",
        "(\"2023-11-20\", \"Books\", 150, 9000),<br>\n",
        "(\"2023-11-21\", \"Books\", 200, 12000),<br>\n",
        "(\"2023-11-22\", \"Books\", 180, 10000)<br>\n",
        "\n",
        "Столбцы: \"date\", \"category\", \"quantity\", \"revenue\".\n",
        "\n",
        "С использованием оконных функций, рассчитайте среднее выручки от продаж для каждой категории продукта.\n",
        "Примените операцию pivot для того, чтобы преобразовать полученные данные таким образом, чтобы в качестве строк были категории продуктов, в качестве столбцов были дни, а значениями были средние значения выручки от продаж за соответствующий день"
      ],
      "metadata": {
        "id": "0wd_vmz2dwy6"
      }
    },
    {
      "cell_type": "code",
      "source": [
        "!pip install pyspark >> None"
      ],
      "metadata": {
        "id": "eJUUegIlfARU"
      },
      "execution_count": null,
      "outputs": []
    },
    {
      "cell_type": "code",
      "source": [
        "from pyspark.sql import SparkSession\n",
        "from pyspark.sql import Window\n",
        "import pyspark.sql.functions as F"
      ],
      "metadata": {
        "id": "9m9WY-CEf1w2"
      },
      "execution_count": null,
      "outputs": []
    },
    {
      "cell_type": "code",
      "source": [
        "spark = SparkSession.builder.appName(\"product_sales\").getOrCreate()\n",
        "\n",
        "# Загрузка исходных данных\n",
        "data = [\n",
        "    (\"2023-11-20\", \"Electronics\", 100, 12000),\n",
        "    (\"2023-11-21\", \"Electronics\", 110, 13000),\n",
        "    (\"2023-11-22\", \"Electronics\", 105, 12500),\n",
        "    (\"2023-11-20\", \"Clothing\", 300, 15000),\n",
        "    (\"2023-11-21\", \"Clothing\", 280, 14000),\n",
        "    (\"2023-11-22\", \"Clothing\", 320, 16000),\n",
        "    (\"2023-11-20\", \"Books\", 150, 9000),\n",
        "    (\"2023-11-21\", \"Books\", 200, 12000),\n",
        "    (\"2023-11-22\", \"Books\", 180, 10000)\n",
        "]\n",
        "df = spark.createDataFrame(data, [\"date\", \"category\", \"quantity\", \"revenue\"])\n",
        "\n",
        "df.show()"
      ],
      "metadata": {
        "colab": {
          "base_uri": "https://localhost:8080/"
        },
        "id": "Bftn1OlLfzv-",
        "outputId": "8c860ed4-b8f5-47dc-b1ea-2cca47fc7c52"
      },
      "execution_count": null,
      "outputs": [
        {
          "output_type": "stream",
          "name": "stdout",
          "text": [
            "+----------+-----------+--------+-------+\n",
            "|      date|   category|quantity|revenue|\n",
            "+----------+-----------+--------+-------+\n",
            "|2023-11-20|Electronics|     100|  12000|\n",
            "|2023-11-21|Electronics|     110|  13000|\n",
            "|2023-11-22|Electronics|     105|  12500|\n",
            "|2023-11-20|   Clothing|     300|  15000|\n",
            "|2023-11-21|   Clothing|     280|  14000|\n",
            "|2023-11-22|   Clothing|     320|  16000|\n",
            "|2023-11-20|      Books|     150|   9000|\n",
            "|2023-11-21|      Books|     200|  12000|\n",
            "|2023-11-22|      Books|     180|  10000|\n",
            "+----------+-----------+--------+-------+\n",
            "\n"
          ]
        }
      ]
    },
    {
      "cell_type": "code",
      "source": [
        "# С использованием оконных функций, рассчитайте среднее выручки от продаж для каждой категории продукта.\n",
        "\n",
        "# Оконная функция для нахождения среднего значения выручки от продаж\n",
        "avg_sales_window = Window.partitionBy(\"category\")\n",
        "\n",
        "# Добавление столбца со средними значениями выручки от продаж для каждой категории продукта.\n",
        "df = df.withColumn(\"avg_sales\", F.avg(\"revenue\").over(avg_sales_window))\n",
        "\n",
        "df.show()"
      ],
      "metadata": {
        "colab": {
          "base_uri": "https://localhost:8080/"
        },
        "id": "h1D6RujdlqrA",
        "outputId": "413312cc-28d1-4e1a-a553-dd13bc504e2f"
      },
      "execution_count": null,
      "outputs": [
        {
          "output_type": "stream",
          "name": "stdout",
          "text": [
            "+----------+-----------+--------+-------+------------------+\n",
            "|      date|   category|quantity|revenue|         avg_sales|\n",
            "+----------+-----------+--------+-------+------------------+\n",
            "|2023-11-20|      Books|     150|   9000|10333.333333333334|\n",
            "|2023-11-21|      Books|     200|  12000|10333.333333333334|\n",
            "|2023-11-22|      Books|     180|  10000|10333.333333333334|\n",
            "|2023-11-20|   Clothing|     300|  15000|           15000.0|\n",
            "|2023-11-21|   Clothing|     280|  14000|           15000.0|\n",
            "|2023-11-22|   Clothing|     320|  16000|           15000.0|\n",
            "|2023-11-20|Electronics|     100|  12000|           12500.0|\n",
            "|2023-11-21|Electronics|     110|  13000|           12500.0|\n",
            "|2023-11-22|Electronics|     105|  12500|           12500.0|\n",
            "+----------+-----------+--------+-------+------------------+\n",
            "\n"
          ]
        }
      ]
    },
    {
      "cell_type": "code",
      "source": [
        "# Примените операцию pivot для того, чтобы преобразовать полученные данные таким образом,\n",
        "# чтобы в качестве строк были категории продуктов, в качестве столбцов были дни,\n",
        "# а значениями были средние значения выручки от продаж за соответствующий день\n",
        "\n",
        "# Применение функции pivot\n",
        "pivot_df = df.groupBy(\"category\").pivot(\"date\").agg(F.avg(\"revenue\"))\n",
        "\n",
        "# Вывод средних значений выручки категории продуктов от продаж за соответствующий день\n",
        "pivot_df.show()"
      ],
      "metadata": {
        "colab": {
          "base_uri": "https://localhost:8080/"
        },
        "id": "E2Y2VNj5nqAj",
        "outputId": "ada528cb-816c-481a-eae0-5a2fe8b9adcd"
      },
      "execution_count": null,
      "outputs": [
        {
          "output_type": "stream",
          "name": "stdout",
          "text": [
            "+-----------+----------+----------+----------+\n",
            "|   category|2023-11-20|2023-11-21|2023-11-22|\n",
            "+-----------+----------+----------+----------+\n",
            "|Electronics|   12000.0|   13000.0|   12500.0|\n",
            "|   Clothing|   15000.0|   14000.0|   16000.0|\n",
            "|      Books|    9000.0|   12000.0|   10000.0|\n",
            "+-----------+----------+----------+----------+\n",
            "\n"
          ]
        }
      ]
    }
  ]
}