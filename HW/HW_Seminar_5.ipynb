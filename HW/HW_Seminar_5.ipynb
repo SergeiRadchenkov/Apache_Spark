{
  "nbformat": 4,
  "nbformat_minor": 0,
  "metadata": {
    "colab": {
      "provenance": []
    },
    "kernelspec": {
      "name": "python3",
      "display_name": "Python 3"
    },
    "language_info": {
      "name": "python"
    }
  },
  "cells": [
    {
      "cell_type": "markdown",
      "source": [
        "##Домашняя работа"
      ],
      "metadata": {
        "id": "HeSv7PBddkQJ"
      }
    },
    {
      "cell_type": "markdown",
      "source": [
        "Условие: создайте csv файл с таким содержимым:\n",
        "\n",
        "title,author,genre,sales,year\n",
        "\n",
        "\"1984\", \"George Orwell\", \"Science Fiction\", 5000, 1949\n",
        "\n",
        "\"The Lord of the Rings\", \"J.R.R. Tolkien\", \"Fantasy\", 3000, 1954\n",
        "\n",
        "\"To Kill a Mockingbird\", \"Harper Lee\", \"Southern Gothic\", 4000, 1960\n",
        "\n",
        "\"The Catcher in the Rye\", \"J.D. Salinger\", \"Novel\", 2000, 1951\n",
        "\n",
        "\"The Great Gatsby\", \"F. Scott Fitzgerald\", \"Novel\", 4500, 1925\n",
        "\n",
        "Задание:\n",
        "\n",
        "— Используя Spark прочитайте данные из файла csv.<br>\n",
        "— Фильтруйте данные, чтобы оставить только книги, продажи которых превышают 3000 экземпляров.<br>\n",
        "— Сгруппируйте данные по жанру и вычислите общий объем продаж для каждого жанра.<br>\n",
        "— Отсортируйте данные по общему объему продаж в порядке убывания.<br>\n",
        "— Выведите результаты на экран."
      ],
      "metadata": {
        "id": "0wd_vmz2dwy6"
      }
    },
    {
      "cell_type": "code",
      "source": [
        "!pip install pyspark >> None"
      ],
      "metadata": {
        "id": "eJUUegIlfARU"
      },
      "execution_count": 1,
      "outputs": []
    },
    {
      "cell_type": "code",
      "source": [
        "from pyspark.sql import SparkSession\n",
        "from pyspark import SparkConf, SparkContext\n",
        "import pyspark.sql.functions as F"
      ],
      "metadata": {
        "id": "9m9WY-CEf1w2"
      },
      "execution_count": 14,
      "outputs": []
    },
    {
      "cell_type": "code",
      "source": [
        "conf = SparkConf().setAppName(\"books_case\")\n",
        "sc = SparkContext(conf=conf)\n",
        "\n",
        "spark = SparkSession.builder.getOrCreate()\n",
        "\n",
        "csv_file = \"books.csv\""
      ],
      "metadata": {
        "id": "Bftn1OlLfzv-"
      },
      "execution_count": 8,
      "outputs": []
    },
    {
      "cell_type": "code",
      "source": [
        "# Читаем данные из файла csv\n",
        "df = spark.read.csv(csv_file, header=True, inferSchema=True)\n",
        "df.show()"
      ],
      "metadata": {
        "colab": {
          "base_uri": "https://localhost:8080/"
        },
        "id": "6a8IQzLTNTzE",
        "outputId": "5b3913a5-207d-4a14-d987-eb3d8803e171"
      },
      "execution_count": 13,
      "outputs": [
        {
          "output_type": "stream",
          "name": "stdout",
          "text": [
            "+--------------------+--------------------+------------------+------+------+\n",
            "|               title|              author|             genre| sales|  year|\n",
            "+--------------------+--------------------+------------------+------+------+\n",
            "|                1984|     \"George Orwell\"| \"Science Fiction\"|5000.0|1949.0|\n",
            "|The Lord of the R...|    \"J.R.R. Tolkien\"|         \"Fantasy\"|3000.0|1954.0|\n",
            "|To Kill a Mocking...|        \"Harper Lee\"| \"Southern Gothic\"|4000.0|1960.0|\n",
            "|The Catcher in th...|     \"J.D. Salinger\"|           \"Novel\"|2000.0|1951.0|\n",
            "|    The Great Gatsby| \"F. Scott Fitzge...|           \"Novel\"|4500.0|1925.0|\n",
            "+--------------------+--------------------+------------------+------+------+\n",
            "\n"
          ]
        }
      ]
    },
    {
      "cell_type": "code",
      "source": [
        "# Фильтруем данные, чтобы оставить только книги, продажи которых превышают 3000 экземпляров\n",
        "sales_3000 = df.filter(df.sales > 3000)\n",
        "\n",
        "sales_3000.show()"
      ],
      "metadata": {
        "colab": {
          "base_uri": "https://localhost:8080/"
        },
        "id": "AzoNFH6zLp4j",
        "outputId": "3cc17e55-bc8d-4236-94d7-19159cb53796"
      },
      "execution_count": 12,
      "outputs": [
        {
          "output_type": "stream",
          "name": "stdout",
          "text": [
            "+--------------------+--------------------+------------------+------+------+\n",
            "|               title|              author|             genre| sales|  year|\n",
            "+--------------------+--------------------+------------------+------+------+\n",
            "|                1984|     \"George Orwell\"| \"Science Fiction\"|5000.0|1949.0|\n",
            "|To Kill a Mocking...|        \"Harper Lee\"| \"Southern Gothic\"|4000.0|1960.0|\n",
            "|    The Great Gatsby| \"F. Scott Fitzge...|           \"Novel\"|4500.0|1925.0|\n",
            "+--------------------+--------------------+------------------+------+------+\n",
            "\n"
          ]
        }
      ]
    },
    {
      "cell_type": "code",
      "source": [
        "# Группируем данные по жанру и вычислите общий объем продаж для каждого жанра\n",
        "genge_sales = df.groupBy('genre').agg(F.sum('sales').alias('total_sales'))\n",
        "genge_sales.show()"
      ],
      "metadata": {
        "colab": {
          "base_uri": "https://localhost:8080/"
        },
        "id": "WLc8vAmrNiUl",
        "outputId": "23f3c1aa-e498-46fb-c45d-294826a7c9c5"
      },
      "execution_count": 19,
      "outputs": [
        {
          "output_type": "stream",
          "name": "stdout",
          "text": [
            "+------------------+-----------+\n",
            "|             genre|total_sales|\n",
            "+------------------+-----------+\n",
            "| \"Southern Gothic\"|     4000.0|\n",
            "| \"Science Fiction\"|     5000.0|\n",
            "|           \"Novel\"|     6500.0|\n",
            "|         \"Fantasy\"|     3000.0|\n",
            "+------------------+-----------+\n",
            "\n"
          ]
        }
      ]
    },
    {
      "cell_type": "code",
      "source": [
        "# Сортируем данные по общему объему продаж в порядке убывания\n",
        "sorted_sales_desc = df.orderBy(F.col('sales').desc())\n",
        "sorted_sales_desc.show()"
      ],
      "metadata": {
        "colab": {
          "base_uri": "https://localhost:8080/"
        },
        "id": "B88gW_dSQvtU",
        "outputId": "403157c5-9548-421c-e41d-5ed3a8c6b98c"
      },
      "execution_count": 24,
      "outputs": [
        {
          "output_type": "stream",
          "name": "stdout",
          "text": [
            "+--------------------+--------------------+------------------+------+------+\n",
            "|               title|              author|             genre| sales|  year|\n",
            "+--------------------+--------------------+------------------+------+------+\n",
            "|                1984|     \"George Orwell\"| \"Science Fiction\"|5000.0|1949.0|\n",
            "|    The Great Gatsby| \"F. Scott Fitzge...|           \"Novel\"|4500.0|1925.0|\n",
            "|To Kill a Mocking...|        \"Harper Lee\"| \"Southern Gothic\"|4000.0|1960.0|\n",
            "|The Lord of the R...|    \"J.R.R. Tolkien\"|         \"Fantasy\"|3000.0|1954.0|\n",
            "|The Catcher in th...|     \"J.D. Salinger\"|           \"Novel\"|2000.0|1951.0|\n",
            "+--------------------+--------------------+------------------+------+------+\n",
            "\n"
          ]
        }
      ]
    },
    {
      "cell_type": "code",
      "source": [
        "sc.stop()"
      ],
      "metadata": {
        "id": "6mQXM6xTMHuq"
      },
      "execution_count": 25,
      "outputs": []
    }
  ]
}