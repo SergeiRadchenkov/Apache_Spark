{
  "nbformat": 4,
  "nbformat_minor": 0,
  "metadata": {
    "colab": {
      "provenance": []
    },
    "kernelspec": {
      "name": "python3",
      "display_name": "Python 3"
    },
    "language_info": {
      "name": "python"
    }
  },
  "cells": [
    {
      "cell_type": "markdown",
      "source": [
        "##Домашняя работа"
      ],
      "metadata": {
        "id": "tqiyIZOxJRQi"
      }
    },
    {
      "cell_type": "markdown",
      "source": [
        "###Задание: Найти самую длинную последовательность упорядоченных чисел в RDD и вывести её."
      ],
      "metadata": {
        "id": "IavnBhFqJYYb"
      }
    },
    {
      "cell_type": "code",
      "source": [
        "!pip install pyspark"
      ],
      "metadata": {
        "colab": {
          "base_uri": "https://localhost:8080/"
        },
        "id": "sPC54bu5KoW9",
        "outputId": "99d9cd57-59d8-441d-d632-73b2a2765166"
      },
      "execution_count": null,
      "outputs": [
        {
          "output_type": "stream",
          "name": "stdout",
          "text": [
            "Collecting pyspark\n",
            "  Downloading pyspark-3.5.3.tar.gz (317.3 MB)\n",
            "\u001b[2K     \u001b[90m━━━━━━━━━━━━━━━━━━━━━━━━━━━━━━━━━━━━━━━━\u001b[0m \u001b[32m317.3/317.3 MB\u001b[0m \u001b[31m3.4 MB/s\u001b[0m eta \u001b[36m0:00:00\u001b[0m\n",
            "\u001b[?25h  Preparing metadata (setup.py) ... \u001b[?25l\u001b[?25hdone\n",
            "Requirement already satisfied: py4j==0.10.9.7 in /usr/local/lib/python3.10/dist-packages (from pyspark) (0.10.9.7)\n",
            "Building wheels for collected packages: pyspark\n",
            "  Building wheel for pyspark (setup.py) ... \u001b[?25l\u001b[?25hdone\n",
            "  Created wheel for pyspark: filename=pyspark-3.5.3-py2.py3-none-any.whl size=317840625 sha256=39fa2bac2bc7d938cdb2560085687f5e1cf32bbd1af030af6ab97025112c10f6\n",
            "  Stored in directory: /root/.cache/pip/wheels/1b/3a/92/28b93e2fbfdbb07509ca4d6f50c5e407f48dce4ddbda69a4ab\n",
            "Successfully built pyspark\n",
            "Installing collected packages: pyspark\n",
            "Successfully installed pyspark-3.5.3\n"
          ]
        }
      ]
    },
    {
      "cell_type": "code",
      "execution_count": null,
      "metadata": {
        "id": "PU5cmAtpIgDT"
      },
      "outputs": [],
      "source": [
        "from pyspark import SparkContext"
      ]
    },
    {
      "cell_type": "code",
      "source": [
        "sc = SparkContext('local', 'Longest Ordered Sequence')\n",
        "rdd = sc.parallelize([1, 2, 3, 5, 4, 3, 2, 6, 7, 8, 1, 2])"
      ],
      "metadata": {
        "id": "mb1LnFvwK43P"
      },
      "execution_count": null,
      "outputs": []
    },
    {
      "cell_type": "code",
      "source": [
        "def find_sequences(data):\n",
        "    res_list = []\n",
        "\n",
        "    # Для возрастающих последовательностей\n",
        "    inc_seq = [data[0]]  # Начальная возрастающая последовательность\n",
        "    for i in range(1, len(data)):\n",
        "        if data[i] == data[i-1] + 1:\n",
        "            inc_seq.append(data[i])\n",
        "        else:\n",
        "            res_list.append(inc_seq)  # Завершаем текущую последовательность\n",
        "            inc_seq = [data[i]]  # Начинаем новую последовательность\n",
        "    res_list.append(inc_seq)  # Добавляем последнюю возрастающую последовательность\n",
        "\n",
        "    # Для убывающих последовательностей\n",
        "    dec_seq = [data[0]]  # Начальная убывающая последовательность\n",
        "    for i in range(1, len(data)):\n",
        "        if data[i] == data[i-1] - 1:\n",
        "            dec_seq.append(data[i])\n",
        "        else:\n",
        "            res_list.append(dec_seq)  # Завершаем текущую последовательность\n",
        "            dec_seq = [data[i]]  # Начинаем новую последовательность\n",
        "    res_list.append(dec_seq)  # Добавляем последнюю убывающую последовательность\n",
        "\n",
        "    return res_list"
      ],
      "metadata": {
        "id": "IRrI9DlLN2k0"
      },
      "execution_count": null,
      "outputs": []
    },
    {
      "cell_type": "code",
      "source": [
        "data_list = rdd.collect()\n",
        "longest_sequence = max(find_sequences(data_list), key=len)\n",
        "print(\"Самая длинная последовательность упорядоченных чисел:\", longest_sequence)"
      ],
      "metadata": {
        "colab": {
          "base_uri": "https://localhost:8080/"
        },
        "id": "th9I9i_CNzTN",
        "outputId": "4c319abb-bcb7-4e9c-a926-c864da9cac6f"
      },
      "execution_count": null,
      "outputs": [
        {
          "output_type": "stream",
          "name": "stdout",
          "text": [
            "Самая длинная последовательность упорядоченных чисел: [5, 4, 3, 2]\n"
          ]
        }
      ]
    },
    {
      "cell_type": "code",
      "source": [
        "sc.stop()"
      ],
      "metadata": {
        "id": "BGHAwgQ5Nz0t"
      },
      "execution_count": null,
      "outputs": []
    }
  ]
}