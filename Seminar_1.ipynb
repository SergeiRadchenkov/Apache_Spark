{
  "nbformat": 4,
  "nbformat_minor": 0,
  "metadata": {
    "colab": {
      "provenance": []
    },
    "kernelspec": {
      "name": "python3",
      "display_name": "Python 3"
    },
    "language_info": {
      "name": "python"
    }
  },
  "cells": [
    {
      "cell_type": "code",
      "execution_count": null,
      "metadata": {
        "colab": {
          "base_uri": "https://localhost:8080/"
        },
        "id": "Trg6R_Q8OEc6",
        "outputId": "55ef7ee7-f190-44da-ea44-b91fb7058f2f"
      },
      "outputs": [
        {
          "output_type": "stream",
          "name": "stdout",
          "text": [
            "Requirement already satisfied: pyspark in /usr/local/lib/python3.10/dist-packages (3.5.3)\n",
            "Requirement already satisfied: py4j==0.10.9.7 in /usr/local/lib/python3.10/dist-packages (from pyspark) (0.10.9.7)\n"
          ]
        }
      ],
      "source": [
        "!pip install pyspark\n",
        "#pip install pyspark >> None"
      ]
    },
    {
      "cell_type": "code",
      "source": [
        "import pyspark\n",
        "from pyspark import SparkContext\n",
        "from pyspark.sql import SparkSession"
      ],
      "metadata": {
        "id": "mNh6dexuVh7A"
      },
      "execution_count": null,
      "outputs": []
    },
    {
      "cell_type": "markdown",
      "source": [
        "###Задание 1: Найти среднее значение элементов в RDD"
      ],
      "metadata": {
        "id": "DHRVzbNZW2IP"
      }
    },
    {
      "cell_type": "code",
      "source": [
        "sc = SparkContext('local', 'Average RDD')\n",
        "rdd = sc.parallelize([1, 2, 3, 4, 5])\n",
        "mean_value = rdd.mean()\n",
        "print('Среднее значение элементов в RDD: ', mean_value)"
      ],
      "metadata": {
        "colab": {
          "base_uri": "https://localhost:8080/"
        },
        "id": "A1-7EWe5XOpy",
        "outputId": "151003d0-4f01-40ca-92c7-15bd164e79a5"
      },
      "execution_count": null,
      "outputs": [
        {
          "output_type": "stream",
          "name": "stdout",
          "text": [
            "Среднее значение элементов в RDD:  3.0\n"
          ]
        }
      ]
    },
    {
      "cell_type": "code",
      "source": [
        "active_session = SparkSession.active\n",
        "print(active_session)"
      ],
      "metadata": {
        "colab": {
          "base_uri": "https://localhost:8080/"
        },
        "id": "zRbXR_I6YQm6",
        "outputId": "7157a76d-38fd-4392-8666-3807409e7c8c"
      },
      "execution_count": null,
      "outputs": [
        {
          "output_type": "stream",
          "name": "stdout",
          "text": [
            "<bound method SparkSession.active of <class 'pyspark.sql.session.SparkSession'>>\n"
          ]
        }
      ]
    },
    {
      "cell_type": "code",
      "source": [
        "sc.stop()"
      ],
      "metadata": {
        "id": "xHoSV9KqYf4C"
      },
      "execution_count": null,
      "outputs": []
    },
    {
      "cell_type": "markdown",
      "source": [
        "###Задание 2: Найти наибольший элемент в RDD"
      ],
      "metadata": {
        "id": "RgUFMgS0ZATB"
      }
    },
    {
      "cell_type": "code",
      "source": [
        "sc = SparkContext('local', 'Max RDD')\n",
        "rdd = sc.parallelize([100, 25, 30, 40, 55, 70])\n",
        "max_value = rdd.max()\n",
        "print('Наибольший элемент в RDD: ', max_value)"
      ],
      "metadata": {
        "colab": {
          "base_uri": "https://localhost:8080/"
        },
        "id": "wRKeigx1ZLYw",
        "outputId": "b757d926-c256-40b1-8a71-b9dd587bff00"
      },
      "execution_count": null,
      "outputs": [
        {
          "output_type": "stream",
          "name": "stdout",
          "text": [
            "Наибольший элемент в RDD:  100\n"
          ]
        }
      ]
    },
    {
      "cell_type": "code",
      "source": [
        "sc.stop()"
      ],
      "metadata": {
        "id": "gGZCtgQFaiju"
      },
      "execution_count": null,
      "outputs": []
    },
    {
      "cell_type": "markdown",
      "source": [
        "###Задание 3: подсчитать количество элементов, удовлетворяющих определённому условию"
      ],
      "metadata": {
        "id": "tnEeb4WbbOlE"
      }
    },
    {
      "cell_type": "code",
      "source": [
        "sc = SparkContext('local', 'Filter RDD')\n",
        "rdd = sc.parallelize([1, 2, 3, 4, 5, 6, 7, 8, 9, 10])\n",
        "filtered_rdd = rdd.filter(lambda x: x > 5)\n",
        "count = filtered_rdd.count()\n",
        "print('Количество элементов, больше 5: ', count)"
      ],
      "metadata": {
        "colab": {
          "base_uri": "https://localhost:8080/"
        },
        "outputId": "7085fe91-da3c-4701-9c76-0b69f7fe382e",
        "id": "QZD2wNSpblMi"
      },
      "execution_count": null,
      "outputs": [
        {
          "output_type": "stream",
          "name": "stdout",
          "text": [
            "Количество элементов, больше 5:  5\n"
          ]
        }
      ]
    },
    {
      "cell_type": "code",
      "source": [
        "sc.stop()"
      ],
      "metadata": {
        "id": "QcdaWptUahAI"
      },
      "execution_count": null,
      "outputs": []
    },
    {
      "cell_type": "markdown",
      "source": [
        "###Задание 4: Группировка по ключу"
      ],
      "metadata": {
        "id": "K5v9c0WsctH9"
      }
    },
    {
      "cell_type": "markdown",
      "source": [
        "Дан набор данных с информацией о продажах товаров в магазине в следующем формате: (товар, магазин, количество). Необходимо сгруппировать данные и найти суммарное количество проданных товаров по каждому товару."
      ],
      "metadata": {
        "id": "GeC9gblddYB8"
      }
    },
    {
      "cell_type": "code",
      "source": [
        "sc = SparkContext('local', 'advanced')\n",
        "data = [('apple', 'store1', 10), ('apple', 'store2', 15),\n",
        "        ('banana', 'store1', 20), ('banana', 'store2', 25),\n",
        "        ('peach', 'store1', 5), ('peach', 'store2', 10),\n",
        "        ('peach', 'store3', 25),]\n",
        "rdd = sc.parallelize(data)\n",
        "grouped_rdd = rdd.map(lambda x: (x[0], x[2])).reduceByKey(lambda a, b: a + b)\n",
        "grouped_rdd.collect()"
      ],
      "metadata": {
        "colab": {
          "base_uri": "https://localhost:8080/"
        },
        "id": "ZMtvZ0cqeXJ9",
        "outputId": "0dc4d54c-a0f8-4afa-b08a-957fe904960f"
      },
      "execution_count": null,
      "outputs": [
        {
          "output_type": "execute_result",
          "data": {
            "text/plain": [
              "[('apple', 25), ('banana', 45), ('peach', 40)]"
            ]
          },
          "metadata": {},
          "execution_count": 97
        }
      ]
    },
    {
      "cell_type": "code",
      "source": [
        "sc.stop()"
      ],
      "metadata": {
        "id": "nZx-502DhPGX"
      },
      "execution_count": null,
      "outputs": []
    },
    {
      "cell_type": "markdown",
      "source": [
        "###Задание 5: Агрегация по ключу"
      ],
      "metadata": {
        "id": "c-waZeGihhyd"
      }
    },
    {
      "cell_type": "markdown",
      "source": [
        "Дан набор данных с информацией о продажах товаров в магазине в следующем формате: (товар, магазин, количество, цена). Необходимо найти общую выручку от продаж каждого товара в каждом магазине."
      ],
      "metadata": {
        "id": "M-M6khNEhzMJ"
      }
    },
    {
      "cell_type": "code",
      "source": [
        "sc = SparkContext('local', 'advanced')\n",
        "data = [('apple', 'store1', 10, 2), ('apple', 'store2', 15, 2.5),\n",
        "        ('banana', 'store1', 20, 1.5), ('banana', 'store2', 25, 1.8),\n",
        "        ('peach', 'store1', 5, 2.4), ('peach', 'store2', 10, 2.3),\n",
        "        ('peach', 'store3', 25, 2.2),\n",
        "        ('watermelon', 'store1', 3, 5), ('watermelon', 'store2', 2, 4),]\n",
        "rdd = sc.parallelize(data)\n",
        "grouped_rdd = rdd.map(lambda x: ((x[1], x[0]), x[2]*x[3])).reduceByKey(lambda a, b: a + b)\n",
        "grouped_rdd.collect()"
      ],
      "metadata": {
        "colab": {
          "base_uri": "https://localhost:8080/"
        },
        "id": "tFjUA_nQiEZq",
        "outputId": "d1d6ab73-0f40-4c7d-d2e4-a7fba49e1d26"
      },
      "execution_count": null,
      "outputs": [
        {
          "output_type": "execute_result",
          "data": {
            "text/plain": [
              "[(('store1', 'apple'), 20),\n",
              " (('store2', 'apple'), 37.5),\n",
              " (('store1', 'banana'), 30.0),\n",
              " (('store2', 'banana'), 45.0),\n",
              " (('store1', 'peach'), 12.0),\n",
              " (('store2', 'peach'), 23.0),\n",
              " (('store3', 'peach'), 55.00000000000001),\n",
              " (('store1', 'watermelon'), 15),\n",
              " (('store2', 'watermelon'), 8)]"
            ]
          },
          "metadata": {},
          "execution_count": 99
        }
      ]
    },
    {
      "cell_type": "code",
      "source": [
        "sc.stop()"
      ],
      "metadata": {
        "id": "xtVyp8ejjJXx"
      },
      "execution_count": null,
      "outputs": []
    },
    {
      "cell_type": "markdown",
      "source": [
        "###Задание 6: Джоин по ключу"
      ],
      "metadata": {
        "id": "s2pjrt41jeVM"
      }
    },
    {
      "cell_type": "code",
      "source": [
        "sc = SparkContext('local', 'advanced')\n",
        "sales_data = [('apple', 10), ('banana', 20), ('apple', 15), ('banana', 25), ('peach', 15), ('peach', 25), ('watermelon', 5), ('watermelon', 10)]\n",
        "price_data = [('apple', 2), ('banana', 1.5), ('peach', 2.5), ('watermelon', 3.5)]\n",
        "sales_rdd = sc.parallelize(sales_data)\n",
        "price_rdd = sc.parallelize(price_data)\n",
        "joined_rdd = sales_rdd.join(price_rdd)\n",
        "revenue_rdd = joined_rdd.map(lambda x: (x[0], x[1][0] * x[1][1]))\n",
        "revenue_rdd.collect()"
      ],
      "metadata": {
        "colab": {
          "base_uri": "https://localhost:8080/"
        },
        "outputId": "9e17ea6c-a9ca-4bc7-dc55-dcea160ce8dc",
        "id": "VHePJACmjmGO"
      },
      "execution_count": null,
      "outputs": [
        {
          "output_type": "execute_result",
          "data": {
            "text/plain": [
              "[('banana', 30.0),\n",
              " ('banana', 37.5),\n",
              " ('peach', 37.5),\n",
              " ('peach', 62.5),\n",
              " ('watermelon', 17.5),\n",
              " ('watermelon', 35.0),\n",
              " ('apple', 20),\n",
              " ('apple', 30)]"
            ]
          },
          "metadata": {},
          "execution_count": 101
        }
      ]
    },
    {
      "cell_type": "code",
      "source": [
        "sc.stop()"
      ],
      "metadata": {
        "id": "GDhpIYXFqGoN"
      },
      "execution_count": null,
      "outputs": []
    },
    {
      "cell_type": "markdown",
      "source": [
        "###Задание 7: Поиск самого длинного слова в RDD"
      ],
      "metadata": {
        "id": "WT_pNvgLqiIJ"
      }
    },
    {
      "cell_type": "code",
      "source": [
        "sc = SparkContext('local', 'RDD tasks')\n",
        "data = ['Приложение', 'Яблоко', 'Спарк', 'Путеводитель', 'Метрополитен', 'Анализ', 'Солнце', 'Питон', 'Снег', 'Рынок']\n",
        "rdd = sc.parallelize(data)\n",
        "longest_word = rdd.max(key=lambda x: len(x))\n",
        "print('Самое длинное слово: ', longest_word)"
      ],
      "metadata": {
        "colab": {
          "base_uri": "https://localhost:8080/"
        },
        "outputId": "12739e93-758a-466a-8d29-6a3288a9e74a",
        "id": "esdCpbfHqryV"
      },
      "execution_count": null,
      "outputs": [
        {
          "output_type": "stream",
          "name": "stdout",
          "text": [
            "Самое длинное слово:  Путеводитель\n"
          ]
        }
      ]
    },
    {
      "cell_type": "code",
      "source": [
        "sc.stop()"
      ],
      "metadata": {
        "id": "PIAVWAHxsyq3"
      },
      "execution_count": null,
      "outputs": []
    },
    {
      "cell_type": "markdown",
      "source": [
        "###Задание 8: Фильтрация слов по длине в RDD"
      ],
      "metadata": {
        "id": "7Se39kxNt39C"
      }
    },
    {
      "cell_type": "code",
      "source": [
        "sc = SparkContext('local', 'RDD tasks')\n",
        "data = ['Приложение', 'Яблоко', 'Спарк', 'Путеводитель', 'Метрополитен', 'Анализ', 'Солнце', 'Питон', 'Снег', 'Рынок']\n",
        "rdd = sc.parallelize(data)\n",
        "filtered_rdd = rdd.filter(lambda x: len(x) > 6)\n",
        "print('Слова длиной более 6 символов: ', filtered_rdd.collect())"
      ],
      "metadata": {
        "colab": {
          "base_uri": "https://localhost:8080/"
        },
        "outputId": "abab17e5-e69d-44ed-8689-30568f76b2aa",
        "id": "FZfGcmw3uGzp"
      },
      "execution_count": null,
      "outputs": [
        {
          "output_type": "stream",
          "name": "stdout",
          "text": [
            "Слова длиной более 6 символов:  ['Приложение', 'Путеводитель', 'Метрополитен']\n"
          ]
        }
      ]
    },
    {
      "cell_type": "code",
      "source": [
        "sc.stop()"
      ],
      "metadata": {
        "id": "Vf1pl30GuJpU"
      },
      "execution_count": null,
      "outputs": []
    },
    {
      "cell_type": "markdown",
      "source": [
        "###Задание 9: Подсчёт количеств уникальных слов в RDD"
      ],
      "metadata": {
        "id": "y2cIKi6YwAnk"
      }
    },
    {
      "cell_type": "code",
      "source": [
        "sc = SparkContext('local', 'RDD tasks')\n",
        "data = ['Приложение', 'Яблоко', 'Спарк', 'Путеводитель', 'Метрополитен', 'Анализ', 'Солнце', 'Питон', 'Снег', 'Рынок',\n",
        "        'Яблоко', 'Путеводитель', 'Анализ']\n",
        "rdd = sc.parallelize(data)\n",
        "unique_words_count = rdd.distinct().count()\n",
        "print('Количество уникальных сов: ', unique_words_count)"
      ],
      "metadata": {
        "colab": {
          "base_uri": "https://localhost:8080/"
        },
        "outputId": "b5d4d408-dec6-4893-d70f-34e161305af7",
        "id": "bYifnSe61Wbk"
      },
      "execution_count": null,
      "outputs": [
        {
          "output_type": "stream",
          "name": "stdout",
          "text": [
            "Количество уникальных сов:  10\n"
          ]
        }
      ]
    },
    {
      "cell_type": "code",
      "source": [
        "sc.stop()"
      ],
      "metadata": {
        "id": "5OqoCGzUw3et"
      },
      "execution_count": null,
      "outputs": []
    },
    {
      "cell_type": "markdown",
      "source": [
        "###Задание 10: Преобразование количеств слов в RDD"
      ],
      "metadata": {
        "id": "IkPg93ZS1FJ0"
      }
    },
    {
      "cell_type": "code",
      "source": [
        "sc = SparkContext('local', 'RDD tasks')\n",
        "data = ['Приложение', 'Яблоко', 'Спарк', 'Путеводитель', 'Метрополитен', 'Анализ', 'Солнце', 'Питон', 'Снег', 'Рынок']\n",
        "rdd = sc.parallelize(data)\n",
        "upper_rdd = rdd.map(lambda x: x.upper())\n",
        "print('Слова в верхнем регистре: ', upper_rdd.collect())"
      ],
      "metadata": {
        "colab": {
          "base_uri": "https://localhost:8080/"
        },
        "outputId": "6beef32d-9b00-48f7-ca73-d22915790ae4",
        "id": "m00zydR0wMYW"
      },
      "execution_count": null,
      "outputs": [
        {
          "output_type": "stream",
          "name": "stdout",
          "text": [
            "Слова в верхнем регистре:  ['ПРИЛОЖЕНИЕ', 'ЯБЛОКО', 'СПАРК', 'ПУТЕВОДИТЕЛЬ', 'МЕТРОПОЛИТЕН', 'АНАЛИЗ', 'СОЛНЦЕ', 'ПИТОН', 'СНЕГ', 'РЫНОК']\n"
          ]
        }
      ]
    },
    {
      "cell_type": "code",
      "source": [
        "sc.stop()"
      ],
      "metadata": {
        "id": "ECX-jxuN1Pjy"
      },
      "execution_count": null,
      "outputs": []
    },
    {
      "cell_type": "markdown",
      "source": [
        "###Задание 11: Найти средний возраст пользователей по их покупкам и вывести топ-5 самых молодых"
      ],
      "metadata": {
        "id": "s7_JDs_fyHbY"
      }
    },
    {
      "cell_type": "code",
      "source": [
        "sc = SparkContext('local', 'RDD tasks')\n",
        "user_purchase_rdd = sc.parallelize([(1, 25), (2, 30), (3, 20), (4, 35), (5, 28), (6, 22)])\n",
        "user_age_total = user_purchase_rdd.mapValues(lambda age: (age, 1)).reduceByKey(lambda a, b: (a[0] + b[0], a[1] + b[1])).mapValues(lambda v: v[0] / v[1])\n",
        "youngest_users = user_age_total.sortBy(lambda x: x[1]).take(5)\n",
        "for user_id, avg_age in youngest_users:\n",
        "  print(user_id, avg_age)"
      ],
      "metadata": {
        "colab": {
          "base_uri": "https://localhost:8080/"
        },
        "outputId": "217ec30e-fa4d-4f71-f9f6-cccd1f139143",
        "id": "oBrN3-eS2nIh"
      },
      "execution_count": null,
      "outputs": [
        {
          "output_type": "stream",
          "name": "stdout",
          "text": [
            "3 20.0\n",
            "6 22.0\n",
            "1 25.0\n",
            "5 28.0\n",
            "2 30.0\n"
          ]
        }
      ]
    },
    {
      "cell_type": "code",
      "source": [
        "sc.stop()"
      ],
      "metadata": {
        "id": "U-OOO188yXaR"
      },
      "execution_count": null,
      "outputs": []
    },
    {
      "cell_type": "markdown",
      "source": [
        "###Задание 12: Найти среднюю цену товара в каждой категории и вывести результат в формате \"Категория: Средняя цена\"."
      ],
      "metadata": {
        "id": "_j5XSSqy6Bhf"
      }
    },
    {
      "cell_type": "code",
      "source": [
        "sc = SparkContext('local', 'ProductPrice')\n",
        "product_rdd = sc.parallelize([(1, 'A', 100), (2, 'B', 150), (3, 'A', 120), (4, 'C', 200), (5, 'B', 130), (6, 'C', 140)])\n",
        "category_total_price = product_rdd.map(lambda x: (x[1], (x[2], 1))).reduceByKey(lambda a, b: (a[0] + b[0], a[1] + b[1])).mapValues(lambda v: v[0] / v[1])\n",
        "for category, avg_price in category_total_price.collect():\n",
        "  print(category, avg_price)"
      ],
      "metadata": {
        "colab": {
          "base_uri": "https://localhost:8080/"
        },
        "outputId": "1ac65283-974d-4c23-9bfc-c0f3ece4d4e8",
        "id": "WacviQl96azn"
      },
      "execution_count": null,
      "outputs": [
        {
          "output_type": "stream",
          "name": "stdout",
          "text": [
            "A 110.0\n",
            "B 140.0\n",
            "C 170.0\n"
          ]
        }
      ]
    },
    {
      "cell_type": "code",
      "source": [
        "sc.stop()"
      ],
      "metadata": {
        "id": "1k9ZTI4K7oik"
      },
      "execution_count": null,
      "outputs": []
    },
    {
      "cell_type": "markdown",
      "source": [
        "###Задание 13: Найти все пары чисел из RDD, сумма которых превышает 100, и вывести их."
      ],
      "metadata": {
        "id": "xCshprd-8O5c"
      }
    },
    {
      "cell_type": "code",
      "source": [
        "sc = SparkContext('local', 'NumberPairs')\n",
        "number_rdd = sc.parallelize([30, 40, 50, 60, 70, 80, 90, 100, 110, 120, 130, 140])\n",
        "number_pairs = number_rdd.cartesian(number_rdd).filter(lambda x: x[0] + x[1] > 100).collect()\n",
        "for pair in number_pairs:\n",
        "  print(pair)"
      ],
      "metadata": {
        "colab": {
          "base_uri": "https://localhost:8080/"
        },
        "outputId": "20adde00-0098-4fab-98ca-5fb0e914fdcb",
        "id": "WDXhc3rn8et4"
      },
      "execution_count": null,
      "outputs": [
        {
          "output_type": "stream",
          "name": "stdout",
          "text": [
            "(30, 80)\n",
            "(30, 90)\n",
            "(30, 100)\n",
            "(30, 110)\n",
            "(30, 120)\n",
            "(30, 130)\n",
            "(30, 140)\n",
            "(40, 70)\n",
            "(40, 80)\n",
            "(40, 90)\n",
            "(40, 100)\n",
            "(40, 110)\n",
            "(40, 120)\n",
            "(40, 130)\n",
            "(40, 140)\n",
            "(50, 60)\n",
            "(50, 70)\n",
            "(50, 80)\n",
            "(50, 90)\n",
            "(50, 100)\n",
            "(50, 110)\n",
            "(50, 120)\n",
            "(50, 130)\n",
            "(50, 140)\n",
            "(60, 50)\n",
            "(60, 60)\n",
            "(60, 70)\n",
            "(60, 80)\n",
            "(60, 90)\n",
            "(60, 100)\n",
            "(60, 110)\n",
            "(60, 120)\n",
            "(60, 130)\n",
            "(60, 140)\n",
            "(70, 40)\n",
            "(70, 50)\n",
            "(70, 60)\n",
            "(70, 70)\n",
            "(70, 80)\n",
            "(70, 90)\n",
            "(70, 100)\n",
            "(70, 110)\n",
            "(70, 120)\n",
            "(70, 130)\n",
            "(70, 140)\n",
            "(80, 30)\n",
            "(80, 40)\n",
            "(80, 50)\n",
            "(80, 60)\n",
            "(80, 70)\n",
            "(80, 80)\n",
            "(80, 90)\n",
            "(80, 100)\n",
            "(80, 110)\n",
            "(80, 120)\n",
            "(80, 130)\n",
            "(80, 140)\n",
            "(90, 30)\n",
            "(90, 40)\n",
            "(90, 50)\n",
            "(90, 60)\n",
            "(90, 70)\n",
            "(90, 80)\n",
            "(90, 90)\n",
            "(90, 100)\n",
            "(90, 110)\n",
            "(90, 120)\n",
            "(90, 130)\n",
            "(90, 140)\n",
            "(100, 30)\n",
            "(100, 40)\n",
            "(100, 50)\n",
            "(100, 60)\n",
            "(100, 70)\n",
            "(100, 80)\n",
            "(100, 90)\n",
            "(100, 100)\n",
            "(100, 110)\n",
            "(100, 120)\n",
            "(100, 130)\n",
            "(100, 140)\n",
            "(110, 30)\n",
            "(110, 40)\n",
            "(110, 50)\n",
            "(110, 60)\n",
            "(110, 70)\n",
            "(110, 80)\n",
            "(110, 90)\n",
            "(110, 100)\n",
            "(110, 110)\n",
            "(110, 120)\n",
            "(110, 130)\n",
            "(110, 140)\n",
            "(120, 30)\n",
            "(120, 40)\n",
            "(120, 50)\n",
            "(120, 60)\n",
            "(120, 70)\n",
            "(120, 80)\n",
            "(120, 90)\n",
            "(120, 100)\n",
            "(120, 110)\n",
            "(120, 120)\n",
            "(120, 130)\n",
            "(120, 140)\n",
            "(130, 30)\n",
            "(130, 40)\n",
            "(130, 50)\n",
            "(130, 60)\n",
            "(130, 70)\n",
            "(130, 80)\n",
            "(130, 90)\n",
            "(130, 100)\n",
            "(130, 110)\n",
            "(130, 120)\n",
            "(130, 130)\n",
            "(130, 140)\n",
            "(140, 30)\n",
            "(140, 40)\n",
            "(140, 50)\n",
            "(140, 60)\n",
            "(140, 70)\n",
            "(140, 80)\n",
            "(140, 90)\n",
            "(140, 100)\n",
            "(140, 110)\n",
            "(140, 120)\n",
            "(140, 130)\n",
            "(140, 140)\n"
          ]
        }
      ]
    },
    {
      "cell_type": "code",
      "source": [
        "sc.stop()"
      ],
      "metadata": {
        "id": "Cw0D-cGz8hBk"
      },
      "execution_count": null,
      "outputs": []
    },
    {
      "cell_type": "markdown",
      "source": [
        "###Бонус"
      ],
      "metadata": {
        "id": "A2jGztfOAPIQ"
      }
    },
    {
      "cell_type": "code",
      "source": [
        "from pyspark.sql import SparkSession\n",
        "\n",
        "# Создание первой сессии Spark\n",
        "spark1 = SparkSession.builder \\\n",
        "  .appName('Myapp1') \\\n",
        "  .master('local[2]') \\\n",
        "  .config('spark.executor.memory', '2g') \\\n",
        "  .getOrCreate()\n",
        "\n",
        "# Создание второй сессии Spark с другой конфигурацией\n",
        "spark2 = SparkSession.builder \\\n",
        "  .appName('Myapp2') \\\n",
        "  .master('local[2]') \\\n",
        "  .config('spark.executor.memory', '1g') \\\n",
        "  .getOrCreate()\n",
        "\n",
        "# Теперь у вас есть две сессии: spark1 и spark2"
      ],
      "metadata": {
        "id": "vYWjfFZuARaL"
      },
      "execution_count": null,
      "outputs": []
    },
    {
      "cell_type": "code",
      "source": [
        "spark1.stop()\n",
        "spark2.stop()"
      ],
      "metadata": {
        "id": "gkI87GjxDKFN"
      },
      "execution_count": null,
      "outputs": []
    }
  ]
}